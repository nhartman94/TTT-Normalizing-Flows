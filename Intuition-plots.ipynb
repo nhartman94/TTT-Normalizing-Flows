{
 "cells": [
  {
   "cell_type": "markdown",
   "id": "060cba45-937d-499b-a62f-c767753a0169",
   "metadata": {},
   "source": [
    "# Intuition Plots\n",
    "\n",
    "**Goal:** (Re)make some of the /classic/ NF plots "
   ]
  },
  {
   "cell_type": "code",
   "execution_count": 1,
   "id": "3ebdbd68-aae2-4ea5-9646-7fa2ba2bbe11",
   "metadata": {},
   "outputs": [],
   "source": [
    "import numpy as np\n",
    "import os\n",
    "import matplotlib.pyplot as plt"
   ]
  },
  {
   "cell_type": "markdown",
   "id": "8939609a-ec76-43e9-85a9-de4fe4faf70a",
   "metadata": {},
   "source": [
    "## Step 1: Easy densities"
   ]
  },
  {
   "cell_type": "code",
   "execution_count": 2,
   "id": "e4bddb39-6877-4200-b0d5-4d75e9509ff6",
   "metadata": {},
   "outputs": [],
   "source": [
    "def gaus(x, mu=0,std=1):\n",
    "    y = np.exp(-0.5 * ((x-mu)/std)**2)\n",
    "    y /= 1/(np.sqrt(2*np.pi)*std)\n",
    "    return y\n",
    "\n",
    "def unif(x, r=(0,1)):\n",
    "    \n",
    "    r_min, r_max = r\n",
    "    dr = r_max - r_min\n",
    "    \n",
    "    y = np.where((x > r_min) & (x < r_max), 1/dr, 0)\n",
    "    return y"
   ]
  },
  {
   "cell_type": "code",
   "execution_count": 76,
   "id": "5321b607-4a98-4a6b-84ab-66b13fc7f30a",
   "metadata": {},
   "outputs": [],
   "source": [
    "def drawPlot(xx,yy, color,figName='',var_name='z'):\n",
    "    '''\n",
    "    Draw the plot for xx vs yy with color\n",
    "    '''\n",
    "    \n",
    "    plt.figure(figsize=(4,3))\n",
    "\n",
    "    plt.plot(xx,yy,color=color)\n",
    "    \n",
    "    ax = plt.gca()\n",
    "    for spine in ['right','top']:\n",
    "        ax.spines[spine].set_visible(False)\n",
    "\n",
    "    xlim = xx[[0,-1]]    \n",
    "    ylim = plt.ylim()\n",
    "    \n",
    "    \n",
    "    # Add arrows on the plot\n",
    "    # https://stackoverflow.com/questions/33737736/matplotlib-axis-arrow-tip\n",
    "    ax.plot((xlim[1]), (ylim[0]), ls=\"\", marker=\">\", \n",
    "            ms=12, color=\"k\", clip_on=False)\n",
    "    ax.plot((xlim[0]), (ylim[1]), ls=\"\", marker=\"^\", \n",
    "            ms=12, color=\"k\", clip_on=False)\n",
    "\n",
    "    ax.set_xlim(xlim)\n",
    "    ax.set_ylim(ylim)\n",
    "    \n",
    "    ax.set_xlabel(var_name,fontsize=28)\n",
    "    ax.set_ylabel(f'p({var_name})',fontsize=28)\n",
    "    \n",
    "    if figName:\n",
    "        plt.savefig(figName,bbox_inches='tight')"
   ]
  },
  {
   "cell_type": "code",
   "execution_count": 4,
   "id": "54f89c12-18b4-4013-a220-c13ee1cb64b6",
   "metadata": {},
   "outputs": [],
   "source": [
    "if not os.path.exists('figures'):\n",
    "    os.mkdir('figures')"
   ]
  },
  {
   "cell_type": "code",
   "execution_count": 5,
   "id": "f0c25f32-da8a-4af0-9d90-6d99a34b7316",
   "metadata": {},
   "outputs": [
    {
     "data": {
      "image/png": "[encoded data removed]",
      "text/plain": [
       "<Figure size 288x216 with 1 Axes>"
      ]
     },
     "metadata": {
      "needs_background": "light"
     },
     "output_type": "display_data"
    }
   ],
   "source": [
    "## Gaussian\n",
    "\n",
    "xx = np.linspace(-3,3.4)\n",
    "yy = gaus(xx)\n",
    "\n",
    "drawPlot(xx,yy,'dodgerblue','figures/gaus_1d.pdf')"
   ]
  },
  {
   "cell_type": "code",
   "execution_count": 6,
   "id": "1c69c117-ceb7-482c-ae43-428915d39ce9",
   "metadata": {},
   "outputs": [
    {
     "data": {
      "image/png": "[encoded data removed]",
      "text/plain": [
       "<Figure size 288x216 with 1 Axes>"
      ]
     },
     "metadata": {
      "needs_background": "light"
     },
     "output_type": "display_data"
    }
   ],
   "source": [
    "## Uniform\n",
    "\n",
    "xx = np.linspace(-1,2.4)\n",
    "yy = unif(xx)\n",
    "\n",
    "drawPlot(xx,yy,'darkorange','figures/unif_1d.pdf')"
   ]
  },
  {
   "cell_type": "code",
   "execution_count": null,
   "id": "c600e28b-9349-4ed9-a730-d440080eb685",
   "metadata": {},
   "outputs": [],
   "source": []
  },
  {
   "cell_type": "markdown",
   "id": "435d78bb-cb4d-49e6-b93e-9bba98641efd",
   "metadata": {},
   "source": [
    "[**Exponential distribution**](https://en.wikipedia.org/wiki/Exponential_distribution)\n",
    "\n",
    "$$\n",
    "f(x;\\lambda) = \\begin{cases}\n",
    "\\lambda e^{- \\lambda x} \\ & x \\geq 0 \\\\\n",
    "0, \\quad & x \\leq 0 \n",
    "\\end{cases}\n",
    "$$"
   ]
  },
  {
   "cell_type": "code",
   "execution_count": 7,
   "id": "3eec06fd-42fb-4eb6-b254-20f1ae385111",
   "metadata": {},
   "outputs": [],
   "source": [
    "def exp(x, lmbda=1):\n",
    "    \n",
    "    y = np.where(x>=0,lmbda * np.exp(- lmbda * x),0)\n",
    "    return y"
   ]
  },
  {
   "cell_type": "code",
   "execution_count": 8,
   "id": "d90dd4c6-838a-49db-a36e-46be9c3b58ec",
   "metadata": {},
   "outputs": [
    {
     "data": {
      "image/png": "[encoded data removed]",
      "text/plain": [
       "<Figure size 288x216 with 1 Axes>"
      ]
     },
     "metadata": {
      "needs_background": "light"
     },
     "output_type": "display_data"
    }
   ],
   "source": [
    "## Exp\n",
    "\n",
    "xx = np.linspace(-0.5,5,201)\n",
    "yy = exp(xx)\n",
    "\n",
    "drawPlot(xx,yy,'limegreen','figures/exp_1d.pdf')"
   ]
  },
  {
   "cell_type": "code",
   "execution_count": null,
   "id": "2057608b-d8fb-468f-87ef-fe0ee2794cd7",
   "metadata": {},
   "outputs": [],
   "source": []
  },
  {
   "cell_type": "markdown",
   "id": "72db942b-33f9-4994-9202-14ddbaf1207d",
   "metadata": {},
   "source": [
    "## Step 2: Basic density morphing\n",
    "\n",
    "$$p_X(x) = p_Z(f^{-1}(x)) \\left| \\frac{d f^{-1}}{dz} \\right| = p_Z(f^{-1}(x)) \\frac{1}{\\left| \\frac{d f}{dx} \\right|}$$\n"
   ]
  },
  {
   "cell_type": "code",
   "execution_count": null,
   "id": "afb25547-6604-4431-b7f7-fccb3498ab2e",
   "metadata": {},
   "outputs": [],
   "source": []
  },
  {
   "cell_type": "code",
   "execution_count": 31,
   "id": "26625ec5-a049-4071-be20-247ea631d384",
   "metadata": {},
   "outputs": [],
   "source": [
    "def sigmoid(x,beta=1):\n",
    "    return 1/(1+np.exp(-beta * x))\n",
    "\n",
    "def invSigmoid(x,beta=1):\n",
    "    return np.log(x/(1-x))/beta\n",
    "    \n",
    "def dsigmoid(x,beta=1):\n",
    "    y = sigmoid(x,beta) \n",
    "    \n",
    "    return y*(1-y)"
   ]
  },
  {
   "cell_type": "code",
   "execution_count": 77,
   "id": "1865fb18-45e9-4031-a297-9f5d41d6cecd",
   "metadata": {},
   "outputs": [
    {
     "data": {
      "image/png": "[encoded data removed]",
      "text/plain": [
       "<Figure size 288x216 with 1 Axes>"
      ]
     },
     "metadata": {
      "needs_background": "light"
     },
     "output_type": "display_data"
    }
   ],
   "source": [
    "beta=10\n",
    "\n",
    "xx = np.linspace(0,1)[1:-1]\n",
    "\n",
    "zz = invSigmoid(xx,beta=beta)\n",
    "\n",
    "yy = gaus(zz)/dsigmoid(zz,beta=beta)\n",
    "\n",
    "# plt.plot(xx,yy)\n",
    "\n",
    "drawPlot(xx,yy,'dodgerblue','figures/sigmoid_of_gauss.pdf',var_name='x')"
   ]
  },
  {
   "cell_type": "code",
   "execution_count": null,
   "id": "3797c8b0-3f61-4ebb-95b7-2752c71782e1",
   "metadata": {},
   "outputs": [],
   "source": []
  },
  {
   "cell_type": "markdown",
   "id": "c8fc1f21-0e1c-4f22-bfa9-1d484b3709b4",
   "metadata": {},
   "source": [
    "**Ack... idk _why_ this isn't working...**\n",
    "\n",
    "Let's try to reproduce Lukas's example!!"
   ]
  },
  {
   "cell_type": "code",
   "execution_count": 70,
   "id": "2fad3463-3277-4054-9dff-6294b85b49db",
   "metadata": {},
   "outputs": [],
   "source": [
    "z = np.random.randn(1000)\n",
    "x = sigmoid(z,beta=10)"
   ]
  },
  {
   "cell_type": "code",
   "execution_count": 72,
   "id": "06fc646b-d625-46e7-b930-d15abcf6f88e",
   "metadata": {},
   "outputs": [
    {
     "data": {
      "text/plain": [
       "[<matplotlib.lines.Line2D at 0x7f3b78b433d0>]"
      ]
     },
     "execution_count": 72,
     "metadata": {},
     "output_type": "execute_result"
    },
    {
     "data": {
      "image/png": "[encoded data removed]",
      "text/plain": [
       "<Figure size 432x288 with 1 Axes>"
      ]
     },
     "metadata": {
      "needs_background": "light"
     },
     "output_type": "display_data"
    }
   ],
   "source": [
    "plt.hist(z,density=True)\n",
    "\n",
    "plt.plot(zz,sigmoid(zz,beta=10))\n"
   ]
  },
  {
   "cell_type": "code",
   "execution_count": 54,
   "id": "c03acc72-f133-4db7-8d67-da378aa51186",
   "metadata": {},
   "outputs": [],
   "source": [
    "import seaborn as sns"
   ]
  },
  {
   "cell_type": "code",
   "execution_count": 55,
   "id": "b6665a99-784f-4bbc-8201-44888ecb46cb",
   "metadata": {},
   "outputs": [
    {
     "data": {
      "text/plain": [
       "\u001b[0;31mSignature:\u001b[0m\n",
       "\u001b[0msns\u001b[0m\u001b[0;34m.\u001b[0m\u001b[0mjointplot\u001b[0m\u001b[0;34m(\u001b[0m\u001b[0;34m\u001b[0m\n",
       "\u001b[0;34m\u001b[0m    \u001b[0;34m*\u001b[0m\u001b[0;34m,\u001b[0m\u001b[0;34m\u001b[0m\n",
       "\u001b[0;34m\u001b[0m    \u001b[0mx\u001b[0m\u001b[0;34m=\u001b[0m\u001b[0;32mNone\u001b[0m\u001b[0;34m,\u001b[0m\u001b[0;34m\u001b[0m\n",
       "\u001b[0;34m\u001b[0m    \u001b[0my\u001b[0m\u001b[0;34m=\u001b[0m\u001b[0;32mNone\u001b[0m\u001b[0;34m,\u001b[0m\u001b[0;34m\u001b[0m\n",
       "\u001b[0;34m\u001b[0m    \u001b[0mdata\u001b[0m\u001b[0;34m=\u001b[0m\u001b[0;32mNone\u001b[0m\u001b[0;34m,\u001b[0m\u001b[0;34m\u001b[0m\n",
       "\u001b[0;34m\u001b[0m    \u001b[0mkind\u001b[0m\u001b[0;34m=\u001b[0m\u001b[0;34m'scatter'\u001b[0m\u001b[0;34m,\u001b[0m\u001b[0;34m\u001b[0m\n",
       "\u001b[0;34m\u001b[0m    \u001b[0mcolor\u001b[0m\u001b[0;34m=\u001b[0m\u001b[0;32mNone\u001b[0m\u001b[0;34m,\u001b[0m\u001b[0;34m\u001b[0m\n",
       "\u001b[0;34m\u001b[0m    \u001b[0mheight\u001b[0m\u001b[0;34m=\u001b[0m\u001b[0;36m6\u001b[0m\u001b[0;34m,\u001b[0m\u001b[0;34m\u001b[0m\n",
       "\u001b[0;34m\u001b[0m    \u001b[0mratio\u001b[0m\u001b[0;34m=\u001b[0m\u001b[0;36m5\u001b[0m\u001b[0;34m,\u001b[0m\u001b[0;34m\u001b[0m\n",
       "\u001b[0;34m\u001b[0m    \u001b[0mspace\u001b[0m\u001b[0;34m=\u001b[0m\u001b[0;36m0.2\u001b[0m\u001b[0;34m,\u001b[0m\u001b[0;34m\u001b[0m\n",
       "\u001b[0;34m\u001b[0m    \u001b[0mdropna\u001b[0m\u001b[0;34m=\u001b[0m\u001b[0;32mFalse\u001b[0m\u001b[0;34m,\u001b[0m\u001b[0;34m\u001b[0m\n",
       "\u001b[0;34m\u001b[0m    \u001b[0mxlim\u001b[0m\u001b[0;34m=\u001b[0m\u001b[0;32mNone\u001b[0m\u001b[0;34m,\u001b[0m\u001b[0;34m\u001b[0m\n",
       "\u001b[0;34m\u001b[0m    \u001b[0mylim\u001b[0m\u001b[0;34m=\u001b[0m\u001b[0;32mNone\u001b[0m\u001b[0;34m,\u001b[0m\u001b[0;34m\u001b[0m\n",
       "\u001b[0;34m\u001b[0m    \u001b[0mmarginal_ticks\u001b[0m\u001b[0;34m=\u001b[0m\u001b[0;32mFalse\u001b[0m\u001b[0;34m,\u001b[0m\u001b[0;34m\u001b[0m\n",
       "\u001b[0;34m\u001b[0m    \u001b[0mjoint_kws\u001b[0m\u001b[0;34m=\u001b[0m\u001b[0;32mNone\u001b[0m\u001b[0;34m,\u001b[0m\u001b[0;34m\u001b[0m\n",
       "\u001b[0;34m\u001b[0m    \u001b[0mmarginal_kws\u001b[0m\u001b[0;34m=\u001b[0m\u001b[0;32mNone\u001b[0m\u001b[0;34m,\u001b[0m\u001b[0;34m\u001b[0m\n",
       "\u001b[0;34m\u001b[0m    \u001b[0mhue\u001b[0m\u001b[0;34m=\u001b[0m\u001b[0;32mNone\u001b[0m\u001b[0;34m,\u001b[0m\u001b[0;34m\u001b[0m\n",
       "\u001b[0;34m\u001b[0m    \u001b[0mpalette\u001b[0m\u001b[0;34m=\u001b[0m\u001b[0;32mNone\u001b[0m\u001b[0;34m,\u001b[0m\u001b[0;34m\u001b[0m\n",
       "\u001b[0;34m\u001b[0m    \u001b[0mhue_order\u001b[0m\u001b[0;34m=\u001b[0m\u001b[0;32mNone\u001b[0m\u001b[0;34m,\u001b[0m\u001b[0;34m\u001b[0m\n",
       "\u001b[0;34m\u001b[0m    \u001b[0mhue_norm\u001b[0m\u001b[0;34m=\u001b[0m\u001b[0;32mNone\u001b[0m\u001b[0;34m,\u001b[0m\u001b[0;34m\u001b[0m\n",
       "\u001b[0;34m\u001b[0m    \u001b[0;34m**\u001b[0m\u001b[0mkwargs\u001b[0m\u001b[0;34m,\u001b[0m\u001b[0;34m\u001b[0m\n",
       "\u001b[0;34m\u001b[0m\u001b[0;34m)\u001b[0m\u001b[0;34m\u001b[0m\u001b[0;34m\u001b[0m\u001b[0m\n",
       "\u001b[0;31mDocstring:\u001b[0m\n",
       "Draw a plot of two variables with bivariate and univariate graphs.\n",
       "\n",
       "This function provides a convenient interface to the :class:`JointGrid`\n",
       "class, with several canned plot kinds. This is intended to be a fairly\n",
       "lightweight wrapper; if you need more flexibility, you should use\n",
       ":class:`JointGrid` directly.\n",
       "\n",
       "Parameters\n",
       "----------\n",
       "x, y : vectors or keys in ``data``\n",
       "    Variables that specify positions on the x and y axes.\n",
       "data : :class:`pandas.DataFrame`, :class:`numpy.ndarray`, mapping, or sequence\n",
       "    Input data structure. Either a long-form collection of vectors that can be\n",
       "    assigned to named variables or a wide-form dataset that will be internally\n",
       "    reshaped.\n",
       "kind : { \"scatter\" | \"kde\" | \"hist\" | \"hex\" | \"reg\" | \"resid\" }\n",
       "    Kind of plot to draw. See the examples for references to the underlying functions.\n",
       "color : :mod:`matplotlib color <matplotlib.colors>`\n",
       "    Single color specification for when hue mapping is not used. Otherwise, the\n",
       "    plot will try to hook into the matplotlib property cycle.\n",
       "height : numeric\n",
       "    Size of the figure (it will be square).\n",
       "ratio : numeric\n",
       "    Ratio of joint axes height to marginal axes height.\n",
       "space : numeric\n",
       "    Space between the joint and marginal axes\n",
       "dropna : bool\n",
       "    If True, remove observations that are missing from ``x`` and ``y``.\n",
       "{x, y}lim : pairs of numbers\n",
       "    Axis limits to set before plotting.\n",
       "marginal_ticks : bool\n",
       "    If False, suppress ticks on the count/density axis of the marginal plots.\n",
       "{joint, marginal}_kws : dicts\n",
       "    Additional keyword arguments for the plot components.\n",
       "hue : vector or key in ``data``\n",
       "    Semantic variable that is mapped to determine the color of plot elements.\n",
       "    Semantic variable that is mapped to determine the color of plot elements.\n",
       "palette : string, list, dict, or :class:`matplotlib.colors.Colormap`\n",
       "    Method for choosing the colors to use when mapping the ``hue`` semantic.\n",
       "    String values are passed to :func:`color_palette`. List or dict values\n",
       "    imply categorical mapping, while a colormap object implies numeric mapping.\n",
       "hue_order : vector of strings\n",
       "    Specify the order of processing and plotting for categorical levels of the\n",
       "    ``hue`` semantic.\n",
       "hue_norm : tuple or :class:`matplotlib.colors.Normalize`\n",
       "    Either a pair of values that set the normalization range in data units\n",
       "    or an object that will map from data units into a [0, 1] interval. Usage\n",
       "    implies numeric mapping.\n",
       "kwargs\n",
       "    Additional keyword arguments are passed to the function used to\n",
       "    draw the plot on the joint Axes, superseding items in the\n",
       "    ``joint_kws`` dictionary.\n",
       "\n",
       "Returns\n",
       "-------\n",
       ":class:`JointGrid`\n",
       "    An object managing multiple subplots that correspond to joint and marginal axes\n",
       "    for plotting a bivariate relationship or distribution.\n",
       "\n",
       "See Also\n",
       "--------\n",
       "JointGrid : Set up a figure with joint and marginal views on bivariate data.\n",
       "PairGrid : Set up a figure with joint and marginal views on multiple variables.\n",
       "jointplot : Draw multiple bivariate plots with univariate marginal distributions.\n",
       "\n",
       "Examples\n",
       "--------\n",
       "\n",
       ".. include:: ../docstrings/jointplot.rst\n",
       "\u001b[0;31mFile:\u001b[0m      /opt/conda/envs/rapids/lib/python3.8/site-packages/seaborn/axisgrid.py\n",
       "\u001b[0;31mType:\u001b[0m      function\n"
      ]
     },
     "metadata": {},
     "output_type": "display_data"
    }
   ],
   "source": [
    "?sns.jointplot"
   ]
  },
  {
   "cell_type": "code",
   "execution_count": 73,
   "id": "f9f11971-b259-4af7-9867-999421823c50",
   "metadata": {},
   "outputs": [
    {
     "name": "stderr",
     "output_type": "stream",
     "text": [
      "/opt/conda/envs/rapids/lib/python3.8/site-packages/seaborn/_decorators.py:36: FutureWarning: Pass the following variables as keyword args: x, y. From version 0.12, the only valid positional argument will be `data`, and passing other arguments without an explicit keyword will result in an error or misinterpretation.\n",
      "  warnings.warn(\n"
     ]
    },
    {
     "data": {
      "text/plain": [
       "<seaborn.axisgrid.JointGrid at 0x7f3b7888ffd0>"
      ]
     },
     "execution_count": 73,
     "metadata": {},
     "output_type": "execute_result"
    },
    {
     "data": {
      "image/png": "[encoded data removed]",
      "text/plain": [
       "<Figure size 432x432 with 3 Axes>"
      ]
     },
     "metadata": {
      "needs_background": "light"
     },
     "output_type": "display_data"
    }
   ],
   "source": [
    "sns.jointplot(z,x)"
   ]
  },
  {
   "cell_type": "code",
   "execution_count": null,
   "id": "509845f0-1ef0-466e-b381-6961afdf2bba",
   "metadata": {},
   "outputs": [],
   "source": []
  }
 ],
 "metadata": {
  "kernelspec": {
   "display_name": "Python 3",
   "language": "python",
   "name": "python3"
  },
  "language_info": {
   "codemirror_mode": {
    "name": "ipython",
    "version": 3
   },
   "file_extension": ".py",
   "mimetype": "text/x-python",
   "name": "python",
   "nbconvert_exporter": "python",
   "pygments_lexer": "ipython3",
   "version": "3.8.12"
  }
 },
 "nbformat": 4,
 "nbformat_minor": 5
}
