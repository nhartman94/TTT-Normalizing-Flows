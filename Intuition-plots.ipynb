{
 "cells": [
  {
   "cell_type": "markdown",
   "id": "060cba45-937d-499b-a62f-c767753a0169",
   "metadata": {},
   "source": [
    "# Intuition Plots\n",
    "\n",
    "Plots and animations for the key concepts from flows."
   ]
  },
  {
   "cell_type": "code",
   "execution_count": 22,
   "id": "dc70d8dc-ef01-4405-a486-5938e255cb4c",
   "metadata": {},
   "outputs": [],
   "source": [
    "# %%bash\n",
    "# jupyter labextension uninstall jupyter-matplotlib && jupyter labextension uninstall @jupyter-widgets/jupyterlab-manager && conda update -y widgetsnbextension && conda update -y nodejs && pip uninstall -y ipympl && pip install git+https://github.com/matplotlib/jupyter-matplotlib.git#egg=ipympl && conda update jupyterlab -y && jupyter labextension install @jupyter-widgets/jupyterlab-manager && jupyter labextension install jupyter-matplotlib && jupyter labextension update --all && jupyter lab build && jupyter nbextension list && jupyter labextension list"
   ]
  },
  {
   "cell_type": "code",
   "execution_count": 23,
   "id": "2b06136e-6d6d-4f9f-b999-28386b1c7df8",
   "metadata": {},
   "outputs": [],
   "source": [
    "# !pip install --upgrade qgrid==1.1.1"
   ]
  },
  {
   "cell_type": "code",
   "execution_count": 24,
   "id": "e85df9bf-d04f-4808-92c0-d68e1bcb9409",
   "metadata": {},
   "outputs": [],
   "source": [
    "# !jupyter labextension install @8080labs/qgrid"
   ]
  },
  {
   "cell_type": "code",
   "execution_count": 25,
   "id": "668e4710-3baa-46bb-9752-61fe70e36b12",
   "metadata": {},
   "outputs": [],
   "source": [
    "# !pip install ipywidgets==7.5.1"
   ]
  },
  {
   "cell_type": "code",
   "execution_count": 27,
   "id": "eeef674b-213c-448f-8148-ed64c8137379",
   "metadata": {},
   "outputs": [],
   "source": [
    "# !pip install ipympl==0.4.1"
   ]
  },
  {
   "cell_type": "code",
   "execution_count": 28,
   "id": "5feea479-818e-4265-8c56-322915f50be4",
   "metadata": {},
   "outputs": [],
   "source": [
    "# !pip uninstall jupyterlab_widgets\n",
    "# !pip install jupyterlab_widgets"
   ]
  },
  {
   "cell_type": "code",
   "execution_count": null,
   "id": "967abb66-d365-4d72-8750-1aced9790da8",
   "metadata": {},
   "outputs": [],
   "source": [
    "!pip install ipywidgets --user\n",
    "!pip install ipympl --user"
   ]
  },
  {
   "cell_type": "code",
   "execution_count": 38,
   "id": "fa0f2e7a-11e4-4385-a6da-df9546a98f85",
   "metadata": {},
   "outputs": [
    {
     "name": "stdout",
     "output_type": "stream",
     "text": [
      "Enabling notebook extension jupyter-js-widgets/extension...\n",
      "Traceback (most recent call last):\n",
      "  File \"/opt/conda/envs/rapids/bin/jupyter-nbextension\", line 10, in <module>\n",
      "    sys.exit(main())\n",
      "  File \"/opt/conda/envs/rapids/lib/python3.8/site-packages/jupyter_core/application.py\", line 264, in launch_instance\n",
      "    return super(JupyterApp, cls).launch_instance(argv=argv, **kwargs)\n",
      "  File \"/opt/conda/envs/rapids/lib/python3.8/site-packages/traitlets/config/application.py\", line 846, in launch_instance\n",
      "    app.start()\n",
      "  File \"/opt/conda/envs/rapids/lib/python3.8/site-packages/notebook/nbextensions.py\", line 980, in start\n",
      "    super().start()\n",
      "  File \"/opt/conda/envs/rapids/lib/python3.8/site-packages/jupyter_core/application.py\", line 253, in start\n",
      "    self.subapp.start()\n",
      "  File \"/opt/conda/envs/rapids/lib/python3.8/site-packages/notebook/nbextensions.py\", line 888, in start\n",
      "    self.toggle_nbextension_python(self.extra_args[0])\n",
      "  File \"/opt/conda/envs/rapids/lib/python3.8/site-packages/notebook/nbextensions.py\", line 861, in toggle_nbextension_python\n",
      "    return toggle(module,\n",
      "  File \"/opt/conda/envs/rapids/lib/python3.8/site-packages/notebook/nbextensions.py\", line 474, in enable_nbextension_python\n",
      "    return _set_nbextension_state_python(True, module, user, sys_prefix,\n",
      "  File \"/opt/conda/envs/rapids/lib/python3.8/site-packages/notebook/nbextensions.py\", line 373, in _set_nbextension_state_python\n",
      "    return [_set_nbextension_state(section=nbext[\"section\"],\n",
      "  File \"/opt/conda/envs/rapids/lib/python3.8/site-packages/notebook/nbextensions.py\", line 373, in <listcomp>\n",
      "    return [_set_nbextension_state(section=nbext[\"section\"],\n",
      "  File \"/opt/conda/envs/rapids/lib/python3.8/site-packages/notebook/nbextensions.py\", line 343, in _set_nbextension_state\n",
      "    cm.update(section, {\"load_extensions\": {require: state}})\n",
      "  File \"/opt/conda/envs/rapids/lib/python3.8/site-packages/notebook/config_manager.py\", line 131, in update\n",
      "    self.set(section_name, data)\n",
      "  File \"/opt/conda/envs/rapids/lib/python3.8/site-packages/notebook/config_manager.py\", line 120, in set\n",
      "    f = io.open(filename, 'w', encoding='utf-8')\n",
      "OSError: [Errno 30] Read-only file system: '/opt/conda/envs/rapids/etc/jupyter/nbconfig/notebook.json'\n",
      "Installing /sdf/home/n/nhartman/.local/lib/python3.8/site-packages/ipympl/static -> jupyter-matplotlib\n",
      "Symlinking: /opt/conda/envs/rapids/share/jupyter/nbextensions/jupyter-matplotlib -> /sdf/home/n/nhartman/.local/lib/python3.8/site-packages/ipympl/static\n",
      "Traceback (most recent call last):\n",
      "  File \"/opt/conda/envs/rapids/bin/jupyter-nbextension\", line 10, in <module>\n",
      "    sys.exit(main())\n",
      "  File \"/opt/conda/envs/rapids/lib/python3.8/site-packages/jupyter_core/application.py\", line 264, in launch_instance\n",
      "    return super(JupyterApp, cls).launch_instance(argv=argv, **kwargs)\n",
      "  File \"/opt/conda/envs/rapids/lib/python3.8/site-packages/traitlets/config/application.py\", line 846, in launch_instance\n",
      "    app.start()\n",
      "  File \"/opt/conda/envs/rapids/lib/python3.8/site-packages/notebook/nbextensions.py\", line 980, in start\n",
      "    super().start()\n",
      "  File \"/opt/conda/envs/rapids/lib/python3.8/site-packages/jupyter_core/application.py\", line 253, in start\n",
      "    self.subapp.start()\n",
      "  File \"/opt/conda/envs/rapids/lib/python3.8/site-packages/notebook/nbextensions.py\", line 708, in start\n",
      "    self.install_extensions()\n",
      "  File \"/opt/conda/envs/rapids/lib/python3.8/site-packages/notebook/nbextensions.py\", line 679, in install_extensions\n",
      "    full_dests = install(self.extra_args[0],\n",
      "  File \"/opt/conda/envs/rapids/lib/python3.8/site-packages/notebook/nbextensions.py\", line 214, in install_nbextension_python\n",
      "    full_dest = install_nbextension(\n",
      "  File \"/opt/conda/envs/rapids/lib/python3.8/site-packages/notebook/nbextensions.py\", line 176, in install_nbextension\n",
      "    os.symlink(path, full_dest)\n",
      "OSError: [Errno 30] Read-only file system: '/sdf/home/n/nhartman/.local/lib/python3.8/site-packages/ipympl/static' -> '/opt/conda/envs/rapids/share/jupyter/nbextensions/jupyter-matplotlib'\n"
     ]
    }
   ],
   "source": [
    "!jupyter nbextension enable --py --sys-prefix widgetsnbextension\n",
    "!jupyter nbextension install --py --symlink --sys-prefix ipympl"
   ]
  },
  {
   "cell_type": "code",
   "execution_count": 57,
   "id": "3ebdbd68-aae2-4ea5-9646-7fa2ba2bbe11",
   "metadata": {},
   "outputs": [],
   "source": [
    "%matplotlib widget\n",
    "# %matplotlib notebook\n",
    "\n",
    "import numpy as np\n",
    "import matplotlib.pyplot as plt\n",
    "import ipywidgets as widgets\n",
    "from IPython.display import display\n",
    "\n",
    "import seaborn as sns"
   ]
  },
  {
   "cell_type": "code",
   "execution_count": 58,
   "id": "7059f37c-00d3-4dcd-8162-774b9ef005c0",
   "metadata": {},
   "outputs": [
    {
     "data": {
      "text/plain": [
       "'7.5.1'"
      ]
     },
     "execution_count": 58,
     "metadata": {},
     "output_type": "execute_result"
    }
   ],
   "source": [
    "widgets.__version__"
   ]
  },
  {
   "cell_type": "code",
   "execution_count": 59,
   "id": "926b97fc-ce71-45bb-983e-8c3c1761f81b",
   "metadata": {},
   "outputs": [],
   "source": [
    "freq_slider = widgets.FloatSlider(\n",
    "    value=1,\n",
    "    min=0.1,\n",
    "    max=5,\n",
    "    step=0.1,\n",
    "    description='Frequency:',\n",
    "    readout_format='.1f'\n",
    ")"
   ]
  },
  {
   "cell_type": "code",
   "execution_count": 60,
   "id": "c9197d80-3df0-4a2e-91a3-767401e1a648",
   "metadata": {},
   "outputs": [],
   "source": [
    "def update_plot(freq):\n",
    "    y = np.sin(freq * x)\n",
    "    line.set_ydata(y)\n",
    "    fig.canvas.draw()"
   ]
  },
  {
   "cell_type": "code",
   "execution_count": 61,
   "id": "7238f77f-ebd1-4fac-8b02-0c969545325a",
   "metadata": {},
   "outputs": [
    {
     "data": {
      "application/vnd.jupyter.widget-view+json": {
       "model_id": "53e9667c1aa54856a60102d84ef23e59",
       "version_major": 2,
       "version_minor": 0
      },
      "text/plain": [
       "Canvas(toolbar=Toolbar(toolitems=[('Home', 'Reset original view', 'home', 'home'), ('Back', 'Back to previous …"
      ]
     },
     "metadata": {},
     "output_type": "display_data"
    },
    {
     "data": {
      "application/vnd.jupyter.widget-view+json": {
       "model_id": "cd30f41a462f4883aec3bb01c496a410",
       "version_major": 2,
       "version_minor": 0
      },
      "text/plain": [
       "interactive(children=(FloatSlider(value=1.0, description='Frequency:', max=5.0, min=0.1, readout_format='.1f')…"
      ]
     },
     "metadata": {},
     "output_type": "display_data"
    },
    {
     "data": {
      "text/plain": [
       "<function __main__.update_plot(freq)>"
      ]
     },
     "execution_count": 61,
     "metadata": {},
     "output_type": "execute_result"
    }
   ],
   "source": [
    "np.random.seed(0)\n",
    "x = np.linspace(0, 10, 100)\n",
    "y = np.sin(x)\n",
    "\n",
    "fig, ax = plt.subplots()\n",
    "line, = ax.plot(x, y, lw=2)\n",
    "\n",
    "widgets.interact(update_plot, freq=freq_slider)"
   ]
  },
  {
   "cell_type": "code",
   "execution_count": 45,
   "id": "7dad5b34-5a25-4ac8-8fc5-73b941352f90",
   "metadata": {},
   "outputs": [
    {
     "ename": "FileNotFoundError",
     "evalue": "[Errno 2] No such file or directory: 'data.csv'",
     "output_type": "error",
     "traceback": [
      "\u001b[0;31m---------------------------------------------------------------------------\u001b[0m",
      "\u001b[0;31mFileNotFoundError\u001b[0m                         Traceback (most recent call last)",
      "\u001b[0;32m<ipython-input-45-b09c733baf74>\u001b[0m in \u001b[0;36m<module>\u001b[0;34m\u001b[0m\n\u001b[1;32m      1\u001b[0m \u001b[0;32mimport\u001b[0m \u001b[0mpandas\u001b[0m \u001b[0;32mas\u001b[0m \u001b[0mpd\u001b[0m\u001b[0;34m\u001b[0m\u001b[0;34m\u001b[0m\u001b[0m\n\u001b[0;32m----> 2\u001b[0;31m \u001b[0mdf\u001b[0m \u001b[0;34m=\u001b[0m \u001b[0mpd\u001b[0m\u001b[0;34m.\u001b[0m\u001b[0mread_csv\u001b[0m\u001b[0;34m(\u001b[0m\u001b[0;34m'data.csv'\u001b[0m\u001b[0;34m,\u001b[0m \u001b[0mindex_col\u001b[0m\u001b[0;34m=\u001b[0m\u001b[0;34m'date'\u001b[0m\u001b[0;34m,\u001b[0m \u001b[0mparse_dates\u001b[0m\u001b[0;34m=\u001b[0m\u001b[0;32mTrue\u001b[0m\u001b[0;34m)\u001b[0m\u001b[0;34m\u001b[0m\u001b[0;34m\u001b[0m\u001b[0m\n\u001b[0m\u001b[1;32m      3\u001b[0m \u001b[0mdf\u001b[0m \u001b[0;34m=\u001b[0m \u001b[0mdf\u001b[0m\u001b[0;34m.\u001b[0m\u001b[0mresample\u001b[0m\u001b[0;34m(\u001b[0m\u001b[0;34m'D'\u001b[0m\u001b[0;34m)\u001b[0m\u001b[0;34m.\u001b[0m\u001b[0msum\u001b[0m\u001b[0;34m(\u001b[0m\u001b[0;34m)\u001b[0m\u001b[0;34m\u001b[0m\u001b[0;34m\u001b[0m\u001b[0m\n\u001b[1;32m      4\u001b[0m \u001b[0;34m\u001b[0m\u001b[0m\n\u001b[1;32m      5\u001b[0m \u001b[0mfig\u001b[0m\u001b[0;34m,\u001b[0m \u001b[0max\u001b[0m \u001b[0;34m=\u001b[0m \u001b[0mplt\u001b[0m\u001b[0;34m.\u001b[0m\u001b[0msubplots\u001b[0m\u001b[0;34m(\u001b[0m\u001b[0;34m)\u001b[0m\u001b[0;34m\u001b[0m\u001b[0;34m\u001b[0m\u001b[0m\n",
      "\u001b[0;32m/opt/conda/lib/python3.8/site-packages/pandas/io/parsers.py\u001b[0m in \u001b[0;36mread_csv\u001b[0;34m(filepath_or_buffer, sep, delimiter, header, names, index_col, usecols, squeeze, prefix, mangle_dupe_cols, dtype, engine, converters, true_values, false_values, skipinitialspace, skiprows, skipfooter, nrows, na_values, keep_default_na, na_filter, verbose, skip_blank_lines, parse_dates, infer_datetime_format, keep_date_col, date_parser, dayfirst, cache_dates, iterator, chunksize, compression, thousands, decimal, lineterminator, quotechar, quoting, doublequote, escapechar, comment, encoding, dialect, error_bad_lines, warn_bad_lines, delim_whitespace, low_memory, memory_map, float_precision)\u001b[0m\n\u001b[1;32m    684\u001b[0m     )\n\u001b[1;32m    685\u001b[0m \u001b[0;34m\u001b[0m\u001b[0m\n\u001b[0;32m--> 686\u001b[0;31m     \u001b[0;32mreturn\u001b[0m \u001b[0m_read\u001b[0m\u001b[0;34m(\u001b[0m\u001b[0mfilepath_or_buffer\u001b[0m\u001b[0;34m,\u001b[0m \u001b[0mkwds\u001b[0m\u001b[0;34m)\u001b[0m\u001b[0;34m\u001b[0m\u001b[0;34m\u001b[0m\u001b[0m\n\u001b[0m\u001b[1;32m    687\u001b[0m \u001b[0;34m\u001b[0m\u001b[0m\n\u001b[1;32m    688\u001b[0m \u001b[0;34m\u001b[0m\u001b[0m\n",
      "\u001b[0;32m/opt/conda/lib/python3.8/site-packages/pandas/io/parsers.py\u001b[0m in \u001b[0;36m_read\u001b[0;34m(filepath_or_buffer, kwds)\u001b[0m\n\u001b[1;32m    450\u001b[0m \u001b[0;34m\u001b[0m\u001b[0m\n\u001b[1;32m    451\u001b[0m     \u001b[0;31m# Create the parser.\u001b[0m\u001b[0;34m\u001b[0m\u001b[0;34m\u001b[0m\u001b[0;34m\u001b[0m\u001b[0m\n\u001b[0;32m--> 452\u001b[0;31m     \u001b[0mparser\u001b[0m \u001b[0;34m=\u001b[0m \u001b[0mTextFileReader\u001b[0m\u001b[0;34m(\u001b[0m\u001b[0mfp_or_buf\u001b[0m\u001b[0;34m,\u001b[0m \u001b[0;34m**\u001b[0m\u001b[0mkwds\u001b[0m\u001b[0;34m)\u001b[0m\u001b[0;34m\u001b[0m\u001b[0;34m\u001b[0m\u001b[0m\n\u001b[0m\u001b[1;32m    453\u001b[0m \u001b[0;34m\u001b[0m\u001b[0m\n\u001b[1;32m    454\u001b[0m     \u001b[0;32mif\u001b[0m \u001b[0mchunksize\u001b[0m \u001b[0;32mor\u001b[0m \u001b[0miterator\u001b[0m\u001b[0;34m:\u001b[0m\u001b[0;34m\u001b[0m\u001b[0;34m\u001b[0m\u001b[0m\n",
      "\u001b[0;32m/opt/conda/lib/python3.8/site-packages/pandas/io/parsers.py\u001b[0m in \u001b[0;36m__init__\u001b[0;34m(self, f, engine, **kwds)\u001b[0m\n\u001b[1;32m    944\u001b[0m             \u001b[0mself\u001b[0m\u001b[0;34m.\u001b[0m\u001b[0moptions\u001b[0m\u001b[0;34m[\u001b[0m\u001b[0;34m\"has_index_names\"\u001b[0m\u001b[0;34m]\u001b[0m \u001b[0;34m=\u001b[0m \u001b[0mkwds\u001b[0m\u001b[0;34m[\u001b[0m\u001b[0;34m\"has_index_names\"\u001b[0m\u001b[0;34m]\u001b[0m\u001b[0;34m\u001b[0m\u001b[0;34m\u001b[0m\u001b[0m\n\u001b[1;32m    945\u001b[0m \u001b[0;34m\u001b[0m\u001b[0m\n\u001b[0;32m--> 946\u001b[0;31m         \u001b[0mself\u001b[0m\u001b[0;34m.\u001b[0m\u001b[0m_make_engine\u001b[0m\u001b[0;34m(\u001b[0m\u001b[0mself\u001b[0m\u001b[0;34m.\u001b[0m\u001b[0mengine\u001b[0m\u001b[0;34m)\u001b[0m\u001b[0;34m\u001b[0m\u001b[0;34m\u001b[0m\u001b[0m\n\u001b[0m\u001b[1;32m    947\u001b[0m \u001b[0;34m\u001b[0m\u001b[0m\n\u001b[1;32m    948\u001b[0m     \u001b[0;32mdef\u001b[0m \u001b[0mclose\u001b[0m\u001b[0;34m(\u001b[0m\u001b[0mself\u001b[0m\u001b[0;34m)\u001b[0m\u001b[0;34m:\u001b[0m\u001b[0;34m\u001b[0m\u001b[0;34m\u001b[0m\u001b[0m\n",
      "\u001b[0;32m/opt/conda/lib/python3.8/site-packages/pandas/io/parsers.py\u001b[0m in \u001b[0;36m_make_engine\u001b[0;34m(self, engine)\u001b[0m\n\u001b[1;32m   1176\u001b[0m     \u001b[0;32mdef\u001b[0m \u001b[0m_make_engine\u001b[0m\u001b[0;34m(\u001b[0m\u001b[0mself\u001b[0m\u001b[0;34m,\u001b[0m \u001b[0mengine\u001b[0m\u001b[0;34m=\u001b[0m\u001b[0;34m\"c\"\u001b[0m\u001b[0;34m)\u001b[0m\u001b[0;34m:\u001b[0m\u001b[0;34m\u001b[0m\u001b[0;34m\u001b[0m\u001b[0m\n\u001b[1;32m   1177\u001b[0m         \u001b[0;32mif\u001b[0m \u001b[0mengine\u001b[0m \u001b[0;34m==\u001b[0m \u001b[0;34m\"c\"\u001b[0m\u001b[0;34m:\u001b[0m\u001b[0;34m\u001b[0m\u001b[0;34m\u001b[0m\u001b[0m\n\u001b[0;32m-> 1178\u001b[0;31m             \u001b[0mself\u001b[0m\u001b[0;34m.\u001b[0m\u001b[0m_engine\u001b[0m \u001b[0;34m=\u001b[0m \u001b[0mCParserWrapper\u001b[0m\u001b[0;34m(\u001b[0m\u001b[0mself\u001b[0m\u001b[0;34m.\u001b[0m\u001b[0mf\u001b[0m\u001b[0;34m,\u001b[0m \u001b[0;34m**\u001b[0m\u001b[0mself\u001b[0m\u001b[0;34m.\u001b[0m\u001b[0moptions\u001b[0m\u001b[0;34m)\u001b[0m\u001b[0;34m\u001b[0m\u001b[0;34m\u001b[0m\u001b[0m\n\u001b[0m\u001b[1;32m   1179\u001b[0m         \u001b[0;32melse\u001b[0m\u001b[0;34m:\u001b[0m\u001b[0;34m\u001b[0m\u001b[0;34m\u001b[0m\u001b[0m\n\u001b[1;32m   1180\u001b[0m             \u001b[0;32mif\u001b[0m \u001b[0mengine\u001b[0m \u001b[0;34m==\u001b[0m \u001b[0;34m\"python\"\u001b[0m\u001b[0;34m:\u001b[0m\u001b[0;34m\u001b[0m\u001b[0;34m\u001b[0m\u001b[0m\n",
      "\u001b[0;32m/opt/conda/lib/python3.8/site-packages/pandas/io/parsers.py\u001b[0m in \u001b[0;36m__init__\u001b[0;34m(self, src, **kwds)\u001b[0m\n\u001b[1;32m   2006\u001b[0m         \u001b[0mkwds\u001b[0m\u001b[0;34m[\u001b[0m\u001b[0;34m\"usecols\"\u001b[0m\u001b[0;34m]\u001b[0m \u001b[0;34m=\u001b[0m \u001b[0mself\u001b[0m\u001b[0;34m.\u001b[0m\u001b[0musecols\u001b[0m\u001b[0;34m\u001b[0m\u001b[0;34m\u001b[0m\u001b[0m\n\u001b[1;32m   2007\u001b[0m \u001b[0;34m\u001b[0m\u001b[0m\n\u001b[0;32m-> 2008\u001b[0;31m         \u001b[0mself\u001b[0m\u001b[0;34m.\u001b[0m\u001b[0m_reader\u001b[0m \u001b[0;34m=\u001b[0m \u001b[0mparsers\u001b[0m\u001b[0;34m.\u001b[0m\u001b[0mTextReader\u001b[0m\u001b[0;34m(\u001b[0m\u001b[0msrc\u001b[0m\u001b[0;34m,\u001b[0m \u001b[0;34m**\u001b[0m\u001b[0mkwds\u001b[0m\u001b[0;34m)\u001b[0m\u001b[0;34m\u001b[0m\u001b[0;34m\u001b[0m\u001b[0m\n\u001b[0m\u001b[1;32m   2009\u001b[0m         \u001b[0mself\u001b[0m\u001b[0;34m.\u001b[0m\u001b[0munnamed_cols\u001b[0m \u001b[0;34m=\u001b[0m \u001b[0mself\u001b[0m\u001b[0;34m.\u001b[0m\u001b[0m_reader\u001b[0m\u001b[0;34m.\u001b[0m\u001b[0munnamed_cols\u001b[0m\u001b[0;34m\u001b[0m\u001b[0;34m\u001b[0m\u001b[0m\n\u001b[1;32m   2010\u001b[0m \u001b[0;34m\u001b[0m\u001b[0m\n",
      "\u001b[0;32m/opt/conda/envs/rapids/lib/python3.8/site-packages/pandas/_libs/parsers.pyx\u001b[0m in \u001b[0;36mpandas._libs.parsers.TextReader.__cinit__\u001b[0;34m()\u001b[0m\n",
      "\u001b[0;32m/opt/conda/envs/rapids/lib/python3.8/site-packages/pandas/_libs/parsers.pyx\u001b[0m in \u001b[0;36mpandas._libs.parsers.TextReader._setup_parser_source\u001b[0;34m()\u001b[0m\n",
      "\u001b[0;31mFileNotFoundError\u001b[0m: [Errno 2] No such file or directory: 'data.csv'"
     ]
    }
   ],
   "source": [
    "import pandas as pd\n",
    "df = pd.read_csv('data.csv', index_col='date', parse_dates=True)\n",
    "df = df.resample('D').sum()\n",
    "\n",
    "fig, ax = plt.subplots()\n",
    "line, = ax.plot(df.index, df['value'], lw=2)\n",
    "\n",
    "window_slider = widgets.IntSlider(\n",
    "    value=7,\n",
    "    min=1,\n",
    "    max=30,\n",
    "    step=1,\n",
    "    description='Rolling window:'\n",
    ")\n",
    "\n",
    "def update_plot(window):\n",
    "    rolling = df['value'].rolling(window=window).mean()\n",
    "    line.set_ydata(rolling)\n",
    "    fig.canvas.draw()\n",
    "\n",
    "widgets.interact(update_plot, window=window_slider)"
   ]
  },
  {
   "cell_type": "code",
   "execution_count": null,
   "id": "47395aa2-d022-4cfc-8c54-8afc3df8ba87",
   "metadata": {},
   "outputs": [],
   "source": []
  },
  {
   "cell_type": "code",
   "execution_count": null,
   "id": "571fcb82-aade-47eb-8578-bf686ef96865",
   "metadata": {},
   "outputs": [],
   "source": []
  },
  {
   "cell_type": "code",
   "execution_count": 37,
   "id": "0d30f19c-7a13-41c2-ae42-3eedc0868d9e",
   "metadata": {},
   "outputs": [
    {
     "data": {
      "application/vnd.jupyter.widget-view+json": {
       "model_id": "a91b72398ffa460e935d22630749016a",
       "version_major": 2,
       "version_minor": 0
      },
      "text/plain": [
       "Canvas(toolbar=Toolbar(toolitems=[('Home', 'Reset original view', 'home', 'home'), ('Back', 'Back to previous …"
      ]
     },
     "metadata": {},
     "output_type": "display_data"
    },
    {
     "data": {
      "application/vnd.jupyter.widget-view+json": {
       "model_id": "feee1826d1f443b98bb57e5de50f2c18",
       "version_major": 2,
       "version_minor": 0
      },
      "text/plain": [
       "interactive(children=(IntSlider(value=1, description='w', max=10), FloatSlider(value=1.0, description='amp', m…"
      ]
     },
     "metadata": {},
     "output_type": "display_data"
    }
   ],
   "source": [
    "# # set up plot\n",
    "# fig, ax = plt.subplots(figsize=(6, 4))\n",
    "# ax.set_ylim([-4, 4])\n",
    "# ax.grid(True)\n",
    " \n",
    "# # generate x values\n",
    "# x = np.linspace(0, 2 * np.pi, 100)\n",
    " \n",
    "\n",
    "# def my_sine(x, w, amp, phi):\n",
    "#     \"\"\"\n",
    "#     Return a sine for x with angular frequeny w and amplitude amp.\n",
    "#     \"\"\"\n",
    "#     return amp*np.sin(w * (x-phi))\n",
    " \n",
    "\n",
    "# @widgets.interact(w=(0, 10, 1), amp=(0, 4, .1), phi=(0, 2*np.pi+0.01, 0.01))\n",
    "# def update(w = 1.0, amp=1, phi=0):\n",
    "#     \"\"\"Remove old lines from plot and plot new one\"\"\"\n",
    "#     [l.remove() for l in ax.lines]\n",
    "#     ax.plot(x, my_sine(x, w, amp, phi), color='C0')"
   ]
  },
  {
   "cell_type": "markdown",
   "id": "8939609a-ec76-43e9-85a9-de4fe4faf70a",
   "metadata": {},
   "source": [
    "## Key idea: bijections to build up complexity \n",
    "\n",
    "Our 1d example."
   ]
  },
  {
   "cell_type": "code",
   "execution_count": null,
   "id": "afc1610e-1eb3-4f28-acd2-5dee7d296c99",
   "metadata": {},
   "outputs": [],
   "source": []
  },
  {
   "cell_type": "code",
   "execution_count": null,
   "id": "ca55211c-7358-4931-9e0f-a7b10c8fe528",
   "metadata": {},
   "outputs": [],
   "source": []
  },
  {
   "cell_type": "code",
   "execution_count": null,
   "id": "2985a1f4-4a5d-48f8-827c-c7e4ff7be123",
   "metadata": {},
   "outputs": [],
   "source": []
  },
  {
   "cell_type": "markdown",
   "id": "72db942b-33f9-4994-9202-14ddbaf1207d",
   "metadata": {},
   "source": []
  },
  {
   "cell_type": "code",
   "execution_count": 32,
   "id": "afb25547-6604-4431-b7f7-fccb3498ab2e",
   "metadata": {},
   "outputs": [],
   "source": [
    "def gaus(x, mu=0,std=1):\n",
    "    y = np.exp(-0.5 * ((x-mu)/std)**2)\n",
    "    y /= 1/(np.sqrt(2*np.pi)*std)\n",
    "    return y"
   ]
  },
  {
   "cell_type": "code",
   "execution_count": 33,
   "id": "26625ec5-a049-4071-be20-247ea631d384",
   "metadata": {},
   "outputs": [],
   "source": [
    "def sigmoid(x,beta=1):\n",
    "    return 1/(1+np.exp(-beta * x))\n",
    "\n",
    "def invSigmoid(x,beta=1):\n",
    "    return np.log(x/(1-x))/beta\n",
    "    \n",
    "def dsigmoid(x,beta=1):\n",
    "    y = sigmoid(x,beta) \n",
    "    \n",
    "    return y*(1-y)"
   ]
  },
  {
   "cell_type": "code",
   "execution_count": null,
   "id": "aea88652-dd33-4c1f-864e-6ec9382e366c",
   "metadata": {},
   "outputs": [],
   "source": []
  },
  {
   "cell_type": "code",
   "execution_count": 34,
   "id": "5b42e9c2-726b-4898-b3ac-7e3e7c3fc692",
   "metadata": {},
   "outputs": [
    {
     "name": "stderr",
     "output_type": "stream",
     "text": [
      "/opt/conda/envs/rapids/lib/python3.8/site-packages/seaborn/_decorators.py:36: FutureWarning: Pass the following variables as keyword args: x, y. From version 0.12, the only valid positional argument will be `data`, and passing other arguments without an explicit keyword will result in an error or misinterpretation.\n",
      "  warnings.warn(\n"
     ]
    },
    {
     "data": {
      "application/vnd.jupyter.widget-view+json": {
       "model_id": "f825e7edf1de4e578143d078ce47dc5b",
       "version_major": 2,
       "version_minor": 0
      },
      "text/plain": [
       "Canvas(toolbar=Toolbar(toolitems=[('Home', 'Reset original view', 'home', 'home'), ('Back', 'Back to previous …"
      ]
     },
     "metadata": {},
     "output_type": "display_data"
    },
    {
     "data": {
      "text/plain": [
       "<seaborn.axisgrid.JointGrid at 0x7f7612075040>"
      ]
     },
     "execution_count": 34,
     "metadata": {},
     "output_type": "execute_result"
    }
   ],
   "source": [
    "beta=10\n",
    "\n",
    "xx = np.linspace(0,1)[1:-1]\n",
    "\n",
    "zz = invSigmoid(xx,beta=beta)\n",
    "\n",
    "yy = gaus(zz)/dsigmoid(zz,beta=beta)\n",
    "\n",
    "z = np.random.randn(1000)\n",
    "x = sigmoid(z,beta=10)\n",
    "\n",
    "sns.jointplot(z,x)"
   ]
  },
  {
   "cell_type": "code",
   "execution_count": null,
   "id": "4ca450b3-bfaf-4bd7-9462-3a44785dbd9e",
   "metadata": {},
   "outputs": [],
   "source": []
  },
  {
   "cell_type": "code",
   "execution_count": 35,
   "id": "bb6eb864-b1b5-415e-bdbc-27e19b621135",
   "metadata": {},
   "outputs": [
    {
     "data": {
      "application/vnd.jupyter.widget-view+json": {
       "model_id": "6fb29ba657fd4cf1a599d251c2b455f0",
       "version_major": 2,
       "version_minor": 0
      },
      "text/plain": [
       "interactive(children=(IntSlider(value=5, description='x', max=10), Checkbox(value=True, description='y'), Drop…"
      ]
     },
     "metadata": {},
     "output_type": "display_data"
    }
   ],
   "source": [
    "def three(x, y, z):\n",
    "    return (x, y, z)\n",
    " \n",
    "_ = widgets.interact(\n",
    "    three, \n",
    "    x=(0, 10, 1), \n",
    "    y=True, \n",
    "    z=['a', 'b', 'c']\n",
    ")"
   ]
  },
  {
   "cell_type": "code",
   "execution_count": 36,
   "id": "4667cfc2-25e4-4656-a67f-8cb0bafa7485",
   "metadata": {},
   "outputs": [
    {
     "data": {
      "application/vnd.jupyter.widget-view+json": {
       "model_id": "8469049ba81b474387c7c1950ba50e49",
       "version_major": 2,
       "version_minor": 0
      },
      "text/plain": [
       "Canvas(toolbar=Toolbar(toolitems=[('Home', 'Reset original view', 'home', 'home'), ('Back', 'Back to previous …"
      ]
     },
     "metadata": {},
     "output_type": "display_data"
    },
    {
     "data": {
      "application/vnd.jupyter.widget-view+json": {
       "model_id": "3b10ee48514c4dce81450f428440e4a5",
       "version_major": 2,
       "version_minor": 0
      },
      "text/plain": [
       "interactive(children=(IntSlider(value=1, description='w', max=10), FloatSlider(value=1.0, description='amp', m…"
      ]
     },
     "metadata": {},
     "output_type": "display_data"
    }
   ],
   "source": []
  },
  {
   "cell_type": "code",
   "execution_count": null,
   "id": "8a63ef16-34f5-40bf-a1a5-35aebb205c8e",
   "metadata": {},
   "outputs": [],
   "source": []
  },
  {
   "cell_type": "code",
   "execution_count": null,
   "id": "fde2c152-51b2-4f75-94dd-fa5719a1c3e5",
   "metadata": {},
   "outputs": [],
   "source": []
  },
  {
   "cell_type": "code",
   "execution_count": 16,
   "id": "6c6fafae-0134-42ca-8c1c-ab19ae3aaf6a",
   "metadata": {},
   "outputs": [
    {
     "ename": "SyntaxError",
     "evalue": "invalid syntax (<ipython-input-16-71bc8a2f424e>, line 3)",
     "output_type": "error",
     "traceback": [
      "\u001b[0;36m  File \u001b[0;32m\"<ipython-input-16-71bc8a2f424e>\"\u001b[0;36m, line \u001b[0;32m3\u001b[0m\n\u001b[0;31m    $$p_X(x) = p_Z(f^{-1}(x)) \\left| \\frac{d f^{-1}}{dz} \\right| = p_Z(f^{-1}(x)) \\frac{1}{\\left| \\frac{d f}{dx} \\right|}$$\u001b[0m\n\u001b[0m    ^\u001b[0m\n\u001b[0;31mSyntaxError\u001b[0m\u001b[0;31m:\u001b[0m invalid syntax\n"
     ]
    }
   ],
   "source": [
    "## Step 2: Basic density morphing\n",
    "\n",
    "$$p_X(x) = p_Z(f^{-1}(x)) \\left| \\frac{d f^{-1}}{dz} \\right| = p_Z(f^{-1}(x)) \\frac{1}{\\left| \\frac{d f}{dx} \\right|}$$\n"
   ]
  },
  {
   "cell_type": "code",
   "execution_count": 77,
   "id": "1865fb18-45e9-4031-a297-9f5d41d6cecd",
   "metadata": {},
   "outputs": [
    {
     "data": {
      "image/png": "[encoded data removed]",
      "text/plain": [
       "<Figure size 288x216 with 1 Axes>"
      ]
     },
     "metadata": {
      "needs_background": "light"
     },
     "output_type": "display_data"
    }
   ],
   "source": [
    "\n",
    "# plt.plot(xx,yy)\n",
    "\n",
    "drawPlot(xx,yy,'dodgerblue','figures/sigmoid_of_gauss.pdf',var_name='x')"
   ]
  },
  {
   "cell_type": "markdown",
   "id": "a170bc1d-31c1-4926-9054-5d3e17e67397",
   "metadata": {},
   "source": [
    "## Probability of $x = f(z)$\n",
    "\n",
    "$$p_X(x) = p_Z(f^{-1}(x)) \\left| \\frac{d f^{-1}}{dz} \\right| = p_Z(f^{-1}(x)) \\frac{1}{\\left| \\frac{d f}{dx} \\right|}$$\n"
   ]
  },
  {
   "cell_type": "markdown",
   "id": "c8fc1f21-0e1c-4f22-bfa9-1d484b3709b4",
   "metadata": {},
   "source": [
    "**Ack... idk _why_ this isn't working...**\n",
    "\n",
    "Let's try to reproduce Lukas's example!!"
   ]
  },
  {
   "cell_type": "code",
   "execution_count": 70,
   "id": "2fad3463-3277-4054-9dff-6294b85b49db",
   "metadata": {},
   "outputs": [],
   "source": [
    "z = np.random.randn(1000)\n",
    "x = sigmoid(z,beta=10)"
   ]
  },
  {
   "cell_type": "code",
   "execution_count": 72,
   "id": "06fc646b-d625-46e7-b930-d15abcf6f88e",
   "metadata": {},
   "outputs": [
    {
     "data": {
      "text/plain": [
       "[<matplotlib.lines.Line2D at 0x7f3b78b433d0>]"
      ]
     },
     "execution_count": 72,
     "metadata": {},
     "output_type": "execute_result"
    },
    {
     "data": {
      "image/png": "[encoded data removed]",
      "text/plain": [
       "<Figure size 432x288 with 1 Axes>"
      ]
     },
     "metadata": {
      "needs_background": "light"
     },
     "output_type": "display_data"
    }
   ],
   "source": [
    "plt.hist(z,density=True)\n",
    "\n",
    "plt.plot(zz,sigmoid(zz,beta=10))\n"
   ]
  },
  {
   "cell_type": "code",
   "execution_count": null,
   "id": "509845f0-1ef0-466e-b381-6961afdf2bba",
   "metadata": {},
   "outputs": [],
   "source": []
  },
  {
   "cell_type": "markdown",
   "id": "b13f7a41-a6e0-4a30-b337-c9e9d25dcc4d",
   "metadata": {},
   "source": [
    "# Multiple dimensions:"
   ]
  },
  {
   "cell_type": "code",
   "execution_count": null,
   "id": "84c39d9d-c489-4abd-b64d-c7b8ad1d2ebe",
   "metadata": {},
   "outputs": [],
   "source": []
  },
  {
   "cell_type": "code",
   "execution_count": null,
   "id": "9ad6b419-4caa-4b09-8fa1-ff60b4eadfa4",
   "metadata": {},
   "outputs": [],
   "source": []
  }
 ],
 "metadata": {
  "kernelspec": {
   "display_name": "Python 3",
   "language": "python",
   "name": "python3"
  },
  "language_info": {
   "codemirror_mode": {
    "name": "ipython",
    "version": 3
   },
   "file_extension": ".py",
   "mimetype": "text/x-python",
   "name": "python",
   "nbconvert_exporter": "python",
   "pygments_lexer": "ipython3",
   "version": "3.8.12"
  }
 },
 "nbformat": 4,
 "nbformat_minor": 5
}
